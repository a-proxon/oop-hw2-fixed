{
 "cells": [
  {
   "cell_type": "markdown",
   "metadata": {},
   "source": [
    "### Выполнила Прохоренко Алина"
   ]
  },
  {
   "cell_type": "markdown",
   "metadata": {},
   "source": [
    "# Задание 1"
   ]
  },
  {
   "cell_type": "code",
   "execution_count": 100,
   "metadata": {},
   "outputs": [
    {
     "name": "stdout",
     "output_type": "stream",
     "text": [
      "{'Запеченный картофель': [{'ingredient_name': 'Картофель',\n",
      "                           'measure': 'кг',\n",
      "                           'quantity': 1},\n",
      "                          {'ingredient_name': 'Чеснок',\n",
      "                           'measure': 'зубч',\n",
      "                           'quantity': 3},\n",
      "                          {'ingredient_name': 'Сыр гауда',\n",
      "                           'measure': 'г',\n",
      "                           'quantity': 100}],\n",
      " 'Омлет': [{'ingredient_name': 'Яйцо', 'measure': 'шт', 'quantity': 2},\n",
      "           {'ingredient_name': 'Молоко', 'measure': 'мл', 'quantity': 100},\n",
      "           {'ingredient_name': 'Помидор', 'measure': 'шт', 'quantity': 2}],\n",
      " 'Утка по-пекински': [{'ingredient_name': 'Утка',\n",
      "                       'measure': 'шт',\n",
      "                       'quantity': 1},\n",
      "                      {'ingredient_name': 'Вода',\n",
      "                       'measure': 'л',\n",
      "                       'quantity': 2},\n",
      "                      {'ingredient_name': 'Мед',\n",
      "                       'measure': 'ст.л',\n",
      "                       'quantity': 3},\n",
      "                      {'ingredient_name': 'Соевый соус',\n",
      "                       'measure': 'мл',\n",
      "                       'quantity': 60}],\n",
      " 'Фахитос': [{'ingredient_name': 'Говядина', 'measure': 'г', 'quantity': 500},\n",
      "             {'ingredient_name': 'Перец сладкий',\n",
      "              'measure': 'шт',\n",
      "              'quantity': 1},\n",
      "             {'ingredient_name': 'Лаваш', 'measure': 'шт', 'quantity': 2},\n",
      "             {'ingredient_name': 'Винный уксус',\n",
      "              'measure': 'ст.л',\n",
      "              'quantity': 1},\n",
      "             {'ingredient_name': 'Помидор', 'measure': 'шт', 'quantity': 2}]}\n"
     ]
    }
   ],
   "source": [
    "import os\n",
    "from pprint import pprint\n",
    "\n",
    "def load_cookbook(file_path):\n",
    "    cookbook = {}\n",
    "    with open(file_path, 'rt', encoding='utf-8') as f:\n",
    "        for line in f:\n",
    "            line = line.strip()\n",
    "            if line.isdigit():\n",
    "                continue\n",
    "            elif line and '|' not in line:\n",
    "                cookbook[line] = []\n",
    "                current_dish = line\n",
    "            elif line and '|' in line:\n",
    "                ingredient_name, quantity, measure = line.split(\" | \")\n",
    "                cookbook[current_dish].append({'ingredient_name': ingredient_name, 'quantity': int(quantity), 'measure': measure})\n",
    "    return cookbook\n",
    "\n",
    "file_path = os.path.join(os.getcwd(), 'recipes.txt')\n",
    "cookbook = load_cookbook(file_path)\n",
    "pprint(cookbook)"
   ]
  },
  {
   "cell_type": "markdown",
   "metadata": {},
   "source": [
    "# Задание 2"
   ]
  },
  {
   "cell_type": "code",
   "execution_count": 101,
   "metadata": {},
   "outputs": [
    {
     "name": "stdout",
     "output_type": "stream",
     "text": [
      "{'Картофель': {'measure': 'кг', 'quantity': 2},\n",
      " 'Молоко': {'measure': 'мл', 'quantity': 200},\n",
      " 'Помидор': {'measure': 'шт', 'quantity': 4},\n",
      " 'Сыр гауда': {'measure': 'г', 'quantity': 200},\n",
      " 'Чеснок': {'measure': 'зубч', 'quantity': 6},\n",
      " 'Яйцо': {'measure': 'шт', 'quantity': 4}}\n"
     ]
    }
   ],
   "source": [
    "def get_shop_list_by_dishes(dishes_list, person_count):\n",
    "    shop_list = {}\n",
    "    for dish in dishes_list:\n",
    "        if dish in cook_book:\n",
    "            for ingredient in cook_book[dish]:\n",
    "                ingredient_name = ingredient['ingredient_name']\n",
    "                if ingredient_name in shop_list:\n",
    "                    shop_list[ingredient_name]['quantity'] += ingredient['quantity'] * person_count\n",
    "                else:\n",
    "                    shop_list[ingredient_name] = {\n",
    "                        'measure': ingredient['measure'],\n",
    "                        'quantity': ingredient['quantity'] * person_count }\n",
    "        else:\n",
    "            print(f\"Такого блюда нет в книге: {dish}\")\n",
    "    return shop_list\n",
    "\n",
    "pprint(get_shop_list_by_dishes(['Запеченный картофель', 'Омлет'], 2))"
   ]
  },
  {
   "cell_type": "markdown",
   "metadata": {},
   "source": [
    "### Задание 3"
   ]
  },
  {
   "cell_type": "code",
   "execution_count": 130,
   "metadata": {},
   "outputs": [
    {
     "name": "stdout",
     "output_type": "stream",
     "text": [
      "2.txt\n",
      "1\n",
      "Тревога началась в тринадцать часов ноль две минуты. \n",
      "1.txt\n",
      "2\n",
      "Начальник  полиции лично позвонил в шестнадцатый участок. А спустя  одну минуту тридцать секунд в дежурке и других комнатах нижнего этажа раздались звонки\n",
      "Когда Иенсен  --  комиссар  шестнадцатого  участка --  вышел  из своего кабинета,  звонки еще  не смолкли. Иенсен был мужчина средних лет,  обычного сложения, с лицом плоским и невыразительным. На последней ступеньке винтовой лестницы  он задержался  и  обвел взглядом помещение дежурки. Затем поправил галстук и проследовал к машине.3.txt\n",
      "2\n",
      "В  это время  дня  машины текли сплошным  блестящим  потоком,  а  среди потока, будто  колонны из бетона  и стекла, высились  здания. Здесь,  в мире резких граней,  люди  на тротуарах  выглядели  несчастными и  неприкаянными. Одеты они были хорошо, но как-то удивительно походили друг на друга и все до одного спешили. Они шли нестройными  вереницами, широко разливались, завидев красный  светофор или  металлический  блеск кафе-автоматов.  Они непрестанно озирались по сторонам и теребили портфели и сумочки.\n",
      "Полицейские  машины  с  включенными  сиренами  пробивались  сквозь  эту толчею.\n"
     ]
    }
   ],
   "source": [
    "import os\n",
    "\n",
    "def merge_files(file_paths):\n",
    "    file_data = []\n",
    "    for file_path in file_paths:\n",
    "        with open(file_path, 'r', encoding='utf-8') as f:\n",
    "            lines = f.readlines()\n",
    "            file_data.append((file_path, len(lines), lines))\n",
    "\n",
    "    file_data.sort(key=lambda x: x[1])\n",
    "\n",
    "    output_file = os.path.join(os.getcwd(), 'result.txt')\n",
    "    with open(output_file, 'w', encoding='utf-8') as f:\n",
    "        for file_path, num_lines, lines in file_data:\n",
    "            f.write(f\"{file_path}\\n{num_lines}\\n\")\n",
    "            f.writelines(lines)\n",
    "    return output_file\n",
    "\n",
    "file_paths = ['1.txt', '2.txt', '3.txt']  \n",
    "result_file = merge_files(file_paths)\n",
    "with open(result_file, 'r', encoding='utf-8') as result:\n",
    "    print(result.read())"
   ]
  }
 ],
 "metadata": {
  "kernelspec": {
   "display_name": "Python 3",
   "language": "python",
   "name": "python3"
  },
  "language_info": {
   "codemirror_mode": {
    "name": "ipython",
    "version": 3
   },
   "file_extension": ".py",
   "mimetype": "text/x-python",
   "name": "python",
   "nbconvert_exporter": "python",
   "pygments_lexer": "ipython3",
   "version": "3.11.5"
  }
 },
 "nbformat": 4,
 "nbformat_minor": 2
}
